{
 "cells": [
  {
   "cell_type": "markdown",
   "metadata": {},
   "source": [
    "# Lab 1 - Adverserial Attacks\n",
    "#### Theodor Jonsson - thjo0148@student.umu.se\n",
    "#### Date: 2023-12-06\n",
    "During this lab i will be using the source from the provided [tutorial](https://debuggercafe.com/traffic-sign-recognition-using-pytorch-and-deep-learning/) and the [GTSRB dataset](https://www.kaggle.com/meowmeowmeowmeowmeow/gtsrb-german-traffic-sign) to train a model to recognize traffic signs. I will utilize the supplied source code and import the necessary functions and classes to this notebook from the source code provided to train/find-tune the model, if any changes has made to the source code it will be noted in this notebook and if further insight into the code is needed it can be found on my GitHub [here](https://github.com/Tottowich/SAAV), where this code and the source code is available."
   ]
  },
  {
   "cell_type": "markdown",
   "metadata": {},
   "source": [
    "## Dataset - GTSRB (German Traffic Sign Recognition Benchmark)\n",
    "\n",
    "The dataset consists of more than $50,000$ images of traffic signs from $43$ different classes. The dataset has been a benchmark for multiple years and has been evaluated using various methods.\n",
    "The dataset is downloaded from following the instuctions of the tutotrial and are available both on [Kaggle](https://www.kaggle.com/meowmeowmeowmeowmeow/gtsrb-german-traffic-sign) and [ERDA](https://sid.erda.dk/public/archives/daaeac0d7ce1152aea9b61d9f1e19370/published-archive.html) (Electronic Research Data Archieve)."
   ]
  },
  {
   "cell_type": "code",
   "execution_count": 3,
   "metadata": {},
   "outputs": [
    {
     "name": "stdout",
     "output_type": "stream",
     "text": [
      "[INFO]: Number of training images: 35289\n",
      "[INFO]: Number of validation images: 3920\n",
      "[INFO]: Class names: ['00000', '00001', '00002', '00003', '00004', '00005', '00006', '00007', '00008', '00009', '00010', '00011', '00012', '00013', '00014', '00015', '00016', '00017', '00018', '00019', '00020', '00021', '00022', '00023', '00024', '00025', '00026', '00027', '00028', '00029', '00030', '00031', '00032', '00033', '00034', '00035', '00036', '00037', '00038', '00039', '00040', '00041', '00042']\n",
      "\n"
     ]
    }
   ],
   "source": [
    "from datasets import get_datasets, get_data_loaders # Altered source code to take input arguments, rather than hard-coded values.\n",
    "# Define dataset parameters.\n",
    "validation_split = 0.15 # Default value.\n",
    "batch_size       = 256 # Default value.\n",
    "num_workers      = 12  # This was the fastest value for my system.\n",
    "\n",
    "dataset_train, dataset_valid, dataset_classes = get_datasets()\n",
    "print(f\"[INFO]: Number of training images: {len(dataset_train)}\")\n",
    "print(f\"[INFO]: Number of validation images: {len(dataset_valid)}\")\n",
    "print(f\"[INFO]: Class names: {dataset_classes}\\n\")\n",
    "# Load the training and validation data loaders.\n",
    "train_loader, valid_loader = get_data_loaders(dataset_train, dataset_valid, batch_size, num_workers)"
   ]
  },
  {
   "cell_type": "markdown",
   "metadata": {},
   "source": [
    "## Model - MobileNetV3 (Large)\n",
    "Training a model from scratch may be time consuming as vision models, especially CNN-based models, tend to learn similary feature extractors. Therefore we will be fine-tuning a pre-trained model, [MobileNetV3](https://arxiv.org/pdf/1905.02244.pdf) (Large). The model is pre-trained on the large-scale [ImageNet](https://www.image-net.org/) dataset which as of december 2023 contains more than 14 million images."
   ]
  },
  {
   "cell_type": "code",
   "execution_count": 4,
   "metadata": {},
   "outputs": [],
   "source": [
    "from model import build_model\n",
    "from train import train, validate\n",
    "import torch\n",
    "import time\n",
    "\n",
    "hyps = { # Defining the default hyperparameters. Found as CLI arguments in train.py\n",
    "    'epochs': 10,\n",
    "    'learning_rate': 0.001,\n",
    "    'pretrained': True,\n",
    "    'fine_tune': True\n",
    "}\n",
    "\n",
    "# Learning_parameters. \n",
    "lr = hyps['learning_rate']\n",
    "epochs = hyps['epochs']\n",
    "device = ('cuda' if torch.cuda.is_available() else 'mps')\n",
    "print(f\"Computation device: {device}\")\n",
    "print(f\"Learning rate: {lr}\")\n",
    "print(f\"Epochs to train for: {epochs}\\n\")\n",
    "# Load the model.\n",
    "model = build_model(\n",
    "    pretrained=hyps['pretrained'],\n",
    "    fine_tune=hyps['fine_tune'], \n",
    "    num_classes=len(dataset_classes)\n",
    ").to(device)\n",
    "\n",
    "# Total parameters and trainable parameters.\n",
    "total_params = sum(p.numel() for p in model.parameters())\n",
    "print(f\"{total_params:,} total parameters.\")\n",
    "total_trainable_params = sum(\n",
    "    p.numel() for p in model.parameters() if p.requires_grad)\n",
    "print(f\"{total_trainable_params:,} training parameters.\")"
   ]
  },
  {
   "cell_type": "markdown",
   "metadata": {},
   "source": [
    "## Training\n",
    "With the model defined and the dataset downloaded we can now start the training. The training was done on a Nvidia 3060 Ti GPU with 8GB of VRAM. In the following section i have made some modifications compared to the original source code by including Mixed Precision Training for faster training and less memory usage."
   ]
  },
  {
   "cell_type": "code",
   "execution_count": null,
   "metadata": {},
   "outputs": [
    {
     "name": "stdout",
     "output_type": "stream",
     "text": [
      "[INFO]: Epoch 1 of 10\n",
      "Training\n"
     ]
    },
    {
     "name": "stderr",
     "output_type": "stream",
     "text": [
      "100%|██████████| 138/138 [00:53<00:00,  2.59it/s]"
     ]
    },
    {
     "name": "stdout",
     "output_type": "stream",
     "text": [
      "Validation\n"
     ]
    },
    {
     "name": "stderr",
     "output_type": "stream",
     "text": [
      "\n",
      "100%|██████████| 16/16 [00:03<00:00,  4.03it/s]"
     ]
    },
    {
     "name": "stdout",
     "output_type": "stream",
     "text": [
      "\n",
      "\n",
      "Accuracy of class 00000: 78.26086956521739\n",
      "Accuracy of class 00001: 98.5781990521327\n",
      "Accuracy of class 00002: 94.7867298578199\n",
      "Accuracy of class 00003: 92.66666666666667\n",
      "Accuracy of class 00004: 100.0\n",
      "Accuracy of class 00005: 91.86046511627907\n",
      "Accuracy of class 00006: 80.0\n",
      "Accuracy of class 00007: 96.03174603174604\n",
      "Accuracy of class 00008: 91.66666666666667\n",
      "Accuracy of class 00009: 97.1830985915493\n",
      "Accuracy of class 00010: 100.0\n",
      "Accuracy of class 00011: 92.8\n",
      "Accuracy of class 00012: 100.0\n",
      "Accuracy of class 00013: 100.0\n",
      "Accuracy of class 00014: 100.0\n",
      "Accuracy of class 00015: 98.41269841269842\n",
      "Accuracy of class 00016: 100.0\n",
      "Accuracy of class 00017: 100.0\n",
      "Accuracy of class 00018: 100.0\n",
      "Accuracy of class 00019: 96.42857142857143\n",
      "Accuracy of class 00020: 79.16666666666667\n",
      "Accuracy of class 00021: 82.3529411764706\n",
      "Accuracy of class 00022: 100.0\n",
      "Accuracy of class 00023: 100.0\n",
      "Accuracy of class 00024: 100.0\n",
      "Accuracy of class 00025: 96.45390070921985\n",
      "Accuracy of class 00026: 94.8051948051948\n",
      "Accuracy of class 00027: 91.30434782608695\n",
      "Accuracy of class 00028: 6.818181818181818\n",
      "Accuracy of class 00029: 100.0\n",
      "Accuracy of class 00030: 77.77777777777777\n",
      "Accuracy of class 00031: 100.0\n",
      "Accuracy of class 00032: 100.0\n",
      "Accuracy of class 00033: 98.6842105263158\n",
      "Accuracy of class 00034: 89.79591836734694\n",
      "Accuracy of class 00035: 100.0\n",
      "Accuracy of class 00036: 100.0\n",
      "Accuracy of class 00037: 86.36363636363636\n",
      "Accuracy of class 00038: 99.5260663507109\n",
      "Accuracy of class 00039: 100.0\n",
      "Accuracy of class 00040: 96.875\n",
      "Accuracy of class 00041: 100.0\n",
      "Accuracy of class 00042: 77.77777777777777\n",
      "\n",
      "\n",
      "Training loss: 0.422, training acc: 87.991\n",
      "Validation loss: 0.198, validation acc: 95.587\n",
      "Learning rate: 9.76e-04\n",
      "--------------------------------------------------\n",
      "[INFO]: Epoch 2 of 10\n",
      "Training\n"
     ]
    },
    {
     "name": "stderr",
     "output_type": "stream",
     "text": [
      "\n",
      "100%|██████████| 138/138 [00:37<00:00,  3.64it/s]"
     ]
    },
    {
     "name": "stdout",
     "output_type": "stream",
     "text": [
      "Validation\n"
     ]
    },
    {
     "name": "stderr",
     "output_type": "stream",
     "text": [
      "\n",
      "100%|██████████| 16/16 [00:03<00:00,  5.11it/s]"
     ]
    },
    {
     "name": "stdout",
     "output_type": "stream",
     "text": [
      "\n",
      "\n",
      "Accuracy of class 00000: 100.0\n",
      "Accuracy of class 00001: 100.0\n",
      "Accuracy of class 00002: 99.5260663507109\n",
      "Accuracy of class 00003: 98.66666666666667\n",
      "Accuracy of class 00004: 98.9795918367347\n",
      "Accuracy of class 00005: 94.18604651162791\n",
      "Accuracy of class 00006: 100.0\n",
      "Accuracy of class 00007: 100.0\n",
      "Accuracy of class 00008: 100.0\n",
      "Accuracy of class 00009: 98.59154929577464\n",
      "Accuracy of class 00010: 100.0\n",
      "Accuracy of class 00011: 100.0\n",
      "Accuracy of class 00012: 99.53917050691244\n",
      "Accuracy of class 00013: 100.0\n",
      "Accuracy of class 00014: 100.0\n",
      "Accuracy of class 00015: 98.41269841269842\n",
      "Accuracy of class 00016: 98.0\n",
      "Accuracy of class 00017: 96.21212121212122\n",
      "Accuracy of class 00018: 100.0\n",
      "Accuracy of class 00019: 92.85714285714286\n",
      "Accuracy of class 00020: 100.0\n",
      "Accuracy of class 00021: 100.0\n",
      "Accuracy of class 00022: 100.0\n",
      "Accuracy of class 00023: 100.0\n",
      "Accuracy of class 00024: 100.0\n",
      "Accuracy of class 00025: 99.29078014184397\n",
      "Accuracy of class 00026: 100.0\n",
      "Accuracy of class 00027: 86.95652173913044\n",
      "Accuracy of class 00028: 97.72727272727273\n",
      "Accuracy of class 00029: 100.0\n",
      "Accuracy of class 00030: 95.55555555555556\n",
      "Accuracy of class 00031: 100.0\n",
      "Accuracy of class 00032: 100.0\n",
      "Accuracy of class 00033: 100.0\n",
      "Accuracy of class 00034: 100.0\n",
      "Accuracy of class 00035: 100.0\n",
      "Accuracy of class 00036: 100.0\n",
      "Accuracy of class 00037: 100.0\n",
      "Accuracy of class 00038: 100.0\n",
      "Accuracy of class 00039: 100.0\n",
      "Accuracy of class 00040: 96.875\n",
      "Accuracy of class 00041: 100.0\n",
      "Accuracy of class 00042: 100.0\n",
      "\n",
      "\n",
      "Training loss: 0.064, training acc: 98.090\n",
      "Validation loss: 0.027, validation acc: 99.107\n",
      "Learning rate: 9.05e-04\n",
      "--------------------------------------------------\n",
      "[INFO]: Epoch 3 of 10\n",
      "Training\n"
     ]
    },
    {
     "name": "stderr",
     "output_type": "stream",
     "text": [
      "\n",
      "100%|██████████| 138/138 [00:38<00:00,  3.61it/s]"
     ]
    },
    {
     "name": "stdout",
     "output_type": "stream",
     "text": [
      "Validation\n"
     ]
    },
    {
     "name": "stderr",
     "output_type": "stream",
     "text": [
      "\n",
      "100%|██████████| 16/16 [00:02<00:00,  5.40it/s]"
     ]
    },
    {
     "name": "stdout",
     "output_type": "stream",
     "text": [
      "\n",
      "\n",
      "Accuracy of class 00000: 100.0\n",
      "Accuracy of class 00001: 100.0\n",
      "Accuracy of class 00002: 99.5260663507109\n",
      "Accuracy of class 00003: 100.0\n",
      "Accuracy of class 00004: 100.0\n",
      "Accuracy of class 00005: 98.83720930232558\n",
      "Accuracy of class 00006: 100.0\n",
      "Accuracy of class 00007: 100.0\n",
      "Accuracy of class 00008: 100.0\n",
      "Accuracy of class 00009: 98.59154929577464\n",
      "Accuracy of class 00010: 99.49238578680203\n",
      "Accuracy of class 00011: 100.0\n",
      "Accuracy of class 00012: 100.0\n",
      "Accuracy of class 00013: 100.0\n",
      "Accuracy of class 00014: 100.0\n",
      "Accuracy of class 00015: 98.41269841269842\n",
      "Accuracy of class 00016: 100.0\n",
      "Accuracy of class 00017: 100.0\n",
      "Accuracy of class 00018: 100.0\n",
      "Accuracy of class 00019: 100.0\n",
      "Accuracy of class 00020: 100.0\n",
      "Accuracy of class 00021: 100.0\n",
      "Accuracy of class 00022: 100.0\n",
      "Accuracy of class 00023: 100.0\n",
      "Accuracy of class 00024: 100.0\n",
      "Accuracy of class 00025: 99.29078014184397\n",
      "Accuracy of class 00026: 100.0\n",
      "Accuracy of class 00027: 78.26086956521739\n",
      "Accuracy of class 00028: 100.0\n",
      "Accuracy of class 00029: 94.44444444444444\n",
      "Accuracy of class 00030: 97.77777777777777\n",
      "Accuracy of class 00031: 100.0\n",
      "Accuracy of class 00032: 100.0\n",
      "Accuracy of class 00033: 100.0\n",
      "Accuracy of class 00034: 100.0\n",
      "Accuracy of class 00035: 98.50746268656717\n",
      "Accuracy of class 00036: 100.0\n",
      "Accuracy of class 00037: 100.0\n",
      "Accuracy of class 00038: 100.0\n",
      "Accuracy of class 00039: 100.0\n",
      "Accuracy of class 00040: 100.0\n",
      "Accuracy of class 00041: 100.0\n",
      "Accuracy of class 00042: 100.0\n",
      "\n",
      "\n",
      "Training loss: 0.051, training acc: 98.439\n",
      "Validation loss: 0.017, validation acc: 99.541\n",
      "Learning rate: 7.95e-04\n",
      "--------------------------------------------------\n",
      "[INFO]: Epoch 4 of 10\n",
      "Training\n"
     ]
    },
    {
     "name": "stderr",
     "output_type": "stream",
     "text": [
      "\n",
      "100%|██████████| 138/138 [00:37<00:00,  3.64it/s]"
     ]
    },
    {
     "name": "stdout",
     "output_type": "stream",
     "text": [
      "Validation\n"
     ]
    },
    {
     "name": "stderr",
     "output_type": "stream",
     "text": [
      "\n",
      "100%|██████████| 16/16 [00:02<00:00,  5.36it/s]"
     ]
    },
    {
     "name": "stdout",
     "output_type": "stream",
     "text": [
      "\n",
      "\n",
      "Accuracy of class 00000: 100.0\n",
      "Accuracy of class 00001: 99.5260663507109\n",
      "Accuracy of class 00002: 100.0\n",
      "Accuracy of class 00003: 98.0\n",
      "Accuracy of class 00004: 97.44897959183673\n",
      "Accuracy of class 00005: 100.0\n",
      "Accuracy of class 00006: 100.0\n",
      "Accuracy of class 00007: 98.41269841269842\n",
      "Accuracy of class 00008: 100.0\n",
      "Accuracy of class 00009: 100.0\n",
      "Accuracy of class 00010: 99.49238578680203\n",
      "Accuracy of class 00011: 100.0\n",
      "Accuracy of class 00012: 100.0\n",
      "Accuracy of class 00013: 100.0\n",
      "Accuracy of class 00014: 100.0\n",
      "Accuracy of class 00015: 100.0\n",
      "Accuracy of class 00016: 100.0\n",
      "Accuracy of class 00017: 100.0\n",
      "Accuracy of class 00018: 100.0\n",
      "Accuracy of class 00019: 96.42857142857143\n",
      "Accuracy of class 00020: 100.0\n",
      "Accuracy of class 00021: 100.0\n",
      "Accuracy of class 00022: 100.0\n",
      "Accuracy of class 00023: 100.0\n",
      "Accuracy of class 00024: 67.6470588235294\n",
      "Accuracy of class 00025: 99.29078014184397\n",
      "Accuracy of class 00026: 98.7012987012987\n",
      "Accuracy of class 00027: 100.0\n",
      "Accuracy of class 00028: 97.72727272727273\n",
      "Accuracy of class 00029: 100.0\n",
      "Accuracy of class 00030: 100.0\n",
      "Accuracy of class 00031: 100.0\n",
      "Accuracy of class 00032: 100.0\n",
      "Accuracy of class 00033: 100.0\n",
      "Accuracy of class 00034: 100.0\n",
      "Accuracy of class 00035: 100.0\n",
      "Accuracy of class 00036: 90.9090909090909\n",
      "Accuracy of class 00037: 100.0\n",
      "Accuracy of class 00038: 100.0\n",
      "Accuracy of class 00039: 100.0\n",
      "Accuracy of class 00040: 100.0\n",
      "Accuracy of class 00041: 100.0\n",
      "Accuracy of class 00042: 100.0\n",
      "\n",
      "\n",
      "Training loss: 0.041, training acc: 98.750\n",
      "Validation loss: 0.024, validation acc: 99.235\n",
      "Learning rate: 6.56e-04\n",
      "--------------------------------------------------\n",
      "[INFO]: Epoch 5 of 10\n",
      "Training\n"
     ]
    },
    {
     "name": "stderr",
     "output_type": "stream",
     "text": [
      "\n",
      "100%|██████████| 138/138 [00:38<00:00,  3.59it/s]"
     ]
    },
    {
     "name": "stdout",
     "output_type": "stream",
     "text": [
      "Validation\n"
     ]
    },
    {
     "name": "stderr",
     "output_type": "stream",
     "text": [
      "\n",
      "100%|██████████| 16/16 [00:02<00:00,  5.41it/s]"
     ]
    },
    {
     "name": "stdout",
     "output_type": "stream",
     "text": [
      "\n",
      "\n",
      "Accuracy of class 00000: 100.0\n",
      "Accuracy of class 00001: 100.0\n",
      "Accuracy of class 00002: 99.0521327014218\n",
      "Accuracy of class 00003: 100.0\n",
      "Accuracy of class 00004: 100.0\n",
      "Accuracy of class 00005: 98.83720930232558\n",
      "Accuracy of class 00006: 100.0\n",
      "Accuracy of class 00007: 100.0\n",
      "Accuracy of class 00008: 99.24242424242425\n",
      "Accuracy of class 00009: 100.0\n",
      "Accuracy of class 00010: 100.0\n",
      "Accuracy of class 00011: 100.0\n",
      "Accuracy of class 00012: 100.0\n",
      "Accuracy of class 00013: 100.0\n",
      "Accuracy of class 00014: 100.0\n",
      "Accuracy of class 00015: 98.41269841269842\n",
      "Accuracy of class 00016: 100.0\n",
      "Accuracy of class 00017: 100.0\n",
      "Accuracy of class 00018: 100.0\n",
      "Accuracy of class 00019: 100.0\n",
      "Accuracy of class 00020: 100.0\n",
      "Accuracy of class 00021: 100.0\n",
      "Accuracy of class 00022: 100.0\n",
      "Accuracy of class 00023: 100.0\n",
      "Accuracy of class 00024: 100.0\n",
      "Accuracy of class 00025: 99.29078014184397\n",
      "Accuracy of class 00026: 100.0\n",
      "Accuracy of class 00027: 100.0\n",
      "Accuracy of class 00028: 97.72727272727273\n",
      "Accuracy of class 00029: 100.0\n",
      "Accuracy of class 00030: 100.0\n",
      "Accuracy of class 00031: 100.0\n",
      "Accuracy of class 00032: 100.0\n",
      "Accuracy of class 00033: 100.0\n",
      "Accuracy of class 00034: 100.0\n",
      "Accuracy of class 00035: 100.0\n",
      "Accuracy of class 00036: 100.0\n",
      "Accuracy of class 00037: 100.0\n",
      "Accuracy of class 00038: 100.0\n",
      "Accuracy of class 00039: 100.0\n",
      "Accuracy of class 00040: 100.0\n",
      "Accuracy of class 00041: 100.0\n",
      "Accuracy of class 00042: 100.0\n",
      "\n",
      "\n",
      "Training loss: 0.032, training acc: 99.062\n",
      "Validation loss: 0.008, validation acc: 99.796\n",
      "Learning rate: 5.01e-04\n",
      "--------------------------------------------------\n",
      "[INFO]: Epoch 6 of 10\n",
      "Training\n"
     ]
    },
    {
     "name": "stderr",
     "output_type": "stream",
     "text": [
      "\n",
      "100%|██████████| 138/138 [00:36<00:00,  3.74it/s]"
     ]
    },
    {
     "name": "stdout",
     "output_type": "stream",
     "text": [
      "Validation\n"
     ]
    },
    {
     "name": "stderr",
     "output_type": "stream",
     "text": [
      "\n",
      "100%|██████████| 16/16 [00:02<00:00,  5.52it/s]"
     ]
    },
    {
     "name": "stdout",
     "output_type": "stream",
     "text": [
      "\n",
      "\n",
      "Accuracy of class 00000: 100.0\n",
      "Accuracy of class 00001: 100.0\n",
      "Accuracy of class 00002: 99.0521327014218\n",
      "Accuracy of class 00003: 100.0\n",
      "Accuracy of class 00004: 100.0\n",
      "Accuracy of class 00005: 100.0\n",
      "Accuracy of class 00006: 100.0\n",
      "Accuracy of class 00007: 99.2063492063492\n",
      "Accuracy of class 00008: 100.0\n",
      "Accuracy of class 00009: 100.0\n",
      "Accuracy of class 00010: 100.0\n",
      "Accuracy of class 00011: 100.0\n",
      "Accuracy of class 00012: 100.0\n",
      "Accuracy of class 00013: 100.0\n",
      "Accuracy of class 00014: 100.0\n",
      "Accuracy of class 00015: 98.41269841269842\n",
      "Accuracy of class 00016: 100.0\n",
      "Accuracy of class 00017: 100.0\n",
      "Accuracy of class 00018: 100.0\n",
      "Accuracy of class 00019: 100.0\n",
      "Accuracy of class 00020: 100.0\n",
      "Accuracy of class 00021: 100.0\n",
      "Accuracy of class 00022: 100.0\n",
      "Accuracy of class 00023: 100.0\n",
      "Accuracy of class 00024: 100.0\n",
      "Accuracy of class 00025: 99.29078014184397\n",
      "Accuracy of class 00026: 100.0\n",
      "Accuracy of class 00027: 91.30434782608695\n",
      "Accuracy of class 00028: 100.0\n",
      "Accuracy of class 00029: 100.0\n",
      "Accuracy of class 00030: 100.0\n",
      "Accuracy of class 00031: 100.0\n",
      "Accuracy of class 00032: 100.0\n",
      "Accuracy of class 00033: 100.0\n",
      "Accuracy of class 00034: 100.0\n",
      "Accuracy of class 00035: 100.0\n",
      "Accuracy of class 00036: 100.0\n",
      "Accuracy of class 00037: 100.0\n",
      "Accuracy of class 00038: 100.0\n",
      "Accuracy of class 00039: 100.0\n",
      "Accuracy of class 00040: 100.0\n",
      "Accuracy of class 00041: 100.0\n",
      "Accuracy of class 00042: 100.0\n",
      "\n",
      "\n",
      "Training loss: 0.026, training acc: 99.218\n",
      "Validation loss: 0.007, validation acc: 99.821\n",
      "Learning rate: 3.47e-04\n",
      "--------------------------------------------------\n",
      "[INFO]: Epoch 7 of 10\n",
      "Training\n"
     ]
    },
    {
     "name": "stderr",
     "output_type": "stream",
     "text": [
      "\n",
      "100%|██████████| 138/138 [00:36<00:00,  3.74it/s]"
     ]
    },
    {
     "name": "stdout",
     "output_type": "stream",
     "text": [
      "Validation\n"
     ]
    },
    {
     "name": "stderr",
     "output_type": "stream",
     "text": [
      "\n",
      "100%|██████████| 16/16 [00:02<00:00,  5.57it/s]"
     ]
    },
    {
     "name": "stdout",
     "output_type": "stream",
     "text": [
      "\n",
      "\n",
      "Accuracy of class 00000: 100.0\n",
      "Accuracy of class 00001: 99.5260663507109\n",
      "Accuracy of class 00002: 99.0521327014218\n",
      "Accuracy of class 00003: 100.0\n",
      "Accuracy of class 00004: 100.0\n",
      "Accuracy of class 00005: 100.0\n",
      "Accuracy of class 00006: 100.0\n",
      "Accuracy of class 00007: 100.0\n",
      "Accuracy of class 00008: 100.0\n",
      "Accuracy of class 00009: 100.0\n",
      "Accuracy of class 00010: 100.0\n",
      "Accuracy of class 00011: 100.0\n",
      "Accuracy of class 00012: 99.53917050691244\n",
      "Accuracy of class 00013: 100.0\n",
      "Accuracy of class 00014: 100.0\n",
      "Accuracy of class 00015: 98.41269841269842\n",
      "Accuracy of class 00016: 100.0\n",
      "Accuracy of class 00017: 100.0\n",
      "Accuracy of class 00018: 100.0\n",
      "Accuracy of class 00019: 100.0\n",
      "Accuracy of class 00020: 100.0\n",
      "Accuracy of class 00021: 100.0\n",
      "Accuracy of class 00022: 100.0\n",
      "Accuracy of class 00023: 100.0\n",
      "Accuracy of class 00024: 100.0\n",
      "Accuracy of class 00025: 99.29078014184397\n",
      "Accuracy of class 00026: 100.0\n",
      "Accuracy of class 00027: 100.0\n",
      "Accuracy of class 00028: 100.0\n",
      "Accuracy of class 00029: 100.0\n",
      "Accuracy of class 00030: 100.0\n",
      "Accuracy of class 00031: 100.0\n",
      "Accuracy of class 00032: 100.0\n",
      "Accuracy of class 00033: 100.0\n",
      "Accuracy of class 00034: 100.0\n",
      "Accuracy of class 00035: 100.0\n",
      "Accuracy of class 00036: 100.0\n",
      "Accuracy of class 00037: 100.0\n",
      "Accuracy of class 00038: 100.0\n",
      "Accuracy of class 00039: 100.0\n",
      "Accuracy of class 00040: 100.0\n",
      "Accuracy of class 00041: 100.0\n",
      "Accuracy of class 00042: 100.0\n",
      "\n",
      "\n",
      "Training loss: 0.022, training acc: 99.300\n",
      "Validation loss: 0.005, validation acc: 99.847\n",
      "Learning rate: 2.07e-04\n",
      "--------------------------------------------------\n",
      "[INFO]: Epoch 8 of 10\n",
      "Training\n"
     ]
    },
    {
     "name": "stderr",
     "output_type": "stream",
     "text": [
      "\n",
      "100%|██████████| 138/138 [00:37<00:00,  3.72it/s]"
     ]
    },
    {
     "name": "stdout",
     "output_type": "stream",
     "text": [
      "Validation\n"
     ]
    },
    {
     "name": "stderr",
     "output_type": "stream",
     "text": [
      "\n",
      "100%|██████████| 16/16 [00:02<00:00,  5.36it/s]"
     ]
    },
    {
     "name": "stdout",
     "output_type": "stream",
     "text": [
      "\n",
      "\n",
      "Accuracy of class 00000: 100.0\n",
      "Accuracy of class 00001: 100.0\n",
      "Accuracy of class 00002: 99.0521327014218\n",
      "Accuracy of class 00003: 100.0\n",
      "Accuracy of class 00004: 99.48979591836735\n",
      "Accuracy of class 00005: 100.0\n",
      "Accuracy of class 00006: 100.0\n",
      "Accuracy of class 00007: 100.0\n",
      "Accuracy of class 00008: 100.0\n",
      "Accuracy of class 00009: 100.0\n",
      "Accuracy of class 00010: 100.0\n",
      "Accuracy of class 00011: 100.0\n",
      "Accuracy of class 00012: 100.0\n",
      "Accuracy of class 00013: 100.0\n",
      "Accuracy of class 00014: 100.0\n",
      "Accuracy of class 00015: 98.41269841269842\n",
      "Accuracy of class 00016: 100.0\n",
      "Accuracy of class 00017: 100.0\n",
      "Accuracy of class 00018: 100.0\n",
      "Accuracy of class 00019: 100.0\n",
      "Accuracy of class 00020: 100.0\n",
      "Accuracy of class 00021: 100.0\n",
      "Accuracy of class 00022: 100.0\n",
      "Accuracy of class 00023: 100.0\n",
      "Accuracy of class 00024: 100.0\n",
      "Accuracy of class 00025: 99.29078014184397\n",
      "Accuracy of class 00026: 100.0\n",
      "Accuracy of class 00027: 100.0\n",
      "Accuracy of class 00028: 100.0\n",
      "Accuracy of class 00029: 100.0\n",
      "Accuracy of class 00030: 100.0\n",
      "Accuracy of class 00031: 100.0\n",
      "Accuracy of class 00032: 100.0\n",
      "Accuracy of class 00033: 100.0\n",
      "Accuracy of class 00034: 100.0\n",
      "Accuracy of class 00035: 100.0\n",
      "Accuracy of class 00036: 100.0\n",
      "Accuracy of class 00037: 100.0\n",
      "Accuracy of class 00038: 100.0\n",
      "Accuracy of class 00039: 100.0\n",
      "Accuracy of class 00040: 100.0\n",
      "Accuracy of class 00041: 100.0\n",
      "Accuracy of class 00042: 100.0\n",
      "\n",
      "\n",
      "Training loss: 0.021, training acc: 99.399\n",
      "Validation loss: 0.004, validation acc: 99.872\n",
      "Learning rate: 9.62e-05\n",
      "--------------------------------------------------\n",
      "[INFO]: Epoch 9 of 10\n",
      "Training\n"
     ]
    },
    {
     "name": "stderr",
     "output_type": "stream",
     "text": [
      "\n",
      "100%|██████████| 138/138 [00:37<00:00,  3.71it/s]"
     ]
    },
    {
     "name": "stdout",
     "output_type": "stream",
     "text": [
      "Validation\n"
     ]
    },
    {
     "name": "stderr",
     "output_type": "stream",
     "text": [
      "\n",
      "100%|██████████| 16/16 [00:02<00:00,  5.53it/s]"
     ]
    },
    {
     "name": "stdout",
     "output_type": "stream",
     "text": [
      "\n",
      "\n",
      "Accuracy of class 00000: 100.0\n",
      "Accuracy of class 00001: 100.0\n",
      "Accuracy of class 00002: 99.0521327014218\n",
      "Accuracy of class 00003: 100.0\n",
      "Accuracy of class 00004: 100.0\n",
      "Accuracy of class 00005: 100.0\n",
      "Accuracy of class 00006: 100.0\n",
      "Accuracy of class 00007: 100.0\n",
      "Accuracy of class 00008: 100.0\n",
      "Accuracy of class 00009: 100.0\n",
      "Accuracy of class 00010: 100.0\n",
      "Accuracy of class 00011: 100.0\n",
      "Accuracy of class 00012: 100.0\n",
      "Accuracy of class 00013: 100.0\n",
      "Accuracy of class 00014: 100.0\n",
      "Accuracy of class 00015: 98.41269841269842\n",
      "Accuracy of class 00016: 100.0\n",
      "Accuracy of class 00017: 100.0\n",
      "Accuracy of class 00018: 100.0\n",
      "Accuracy of class 00019: 100.0\n",
      "Accuracy of class 00020: 100.0\n",
      "Accuracy of class 00021: 100.0\n",
      "Accuracy of class 00022: 100.0\n",
      "Accuracy of class 00023: 100.0\n",
      "Accuracy of class 00024: 100.0\n",
      "Accuracy of class 00025: 99.29078014184397\n",
      "Accuracy of class 00026: 100.0\n",
      "Accuracy of class 00027: 100.0\n",
      "Accuracy of class 00028: 97.72727272727273\n",
      "Accuracy of class 00029: 100.0\n",
      "Accuracy of class 00030: 100.0\n",
      "Accuracy of class 00031: 100.0\n",
      "Accuracy of class 00032: 100.0\n",
      "Accuracy of class 00033: 100.0\n",
      "Accuracy of class 00034: 100.0\n",
      "Accuracy of class 00035: 100.0\n",
      "Accuracy of class 00036: 100.0\n",
      "Accuracy of class 00037: 100.0\n",
      "Accuracy of class 00038: 100.0\n",
      "Accuracy of class 00039: 100.0\n",
      "Accuracy of class 00040: 100.0\n",
      "Accuracy of class 00041: 100.0\n",
      "Accuracy of class 00042: 100.0\n",
      "\n",
      "\n",
      "Training loss: 0.020, training acc: 99.419\n",
      "Validation loss: 0.004, validation acc: 99.872\n",
      "Learning rate: 2.48e-05\n",
      "--------------------------------------------------\n",
      "[INFO]: Epoch 10 of 10\n",
      "Training\n"
     ]
    },
    {
     "name": "stderr",
     "output_type": "stream",
     "text": [
      "\n",
      "100%|██████████| 138/138 [00:37<00:00,  3.72it/s]"
     ]
    },
    {
     "name": "stdout",
     "output_type": "stream",
     "text": [
      "Validation\n"
     ]
    },
    {
     "name": "stderr",
     "output_type": "stream",
     "text": [
      "\n",
      "100%|██████████| 16/16 [00:02<00:00,  5.43it/s]"
     ]
    },
    {
     "name": "stdout",
     "output_type": "stream",
     "text": [
      "\n",
      "\n",
      "Accuracy of class 00000: 100.0\n",
      "Accuracy of class 00001: 100.0\n",
      "Accuracy of class 00002: 99.0521327014218\n",
      "Accuracy of class 00003: 100.0\n",
      "Accuracy of class 00004: 100.0\n",
      "Accuracy of class 00005: 100.0\n",
      "Accuracy of class 00006: 100.0\n",
      "Accuracy of class 00007: 100.0\n",
      "Accuracy of class 00008: 100.0\n",
      "Accuracy of class 00009: 100.0\n",
      "Accuracy of class 00010: 100.0\n",
      "Accuracy of class 00011: 100.0\n",
      "Accuracy of class 00012: 100.0\n",
      "Accuracy of class 00013: 100.0\n",
      "Accuracy of class 00014: 100.0\n",
      "Accuracy of class 00015: 98.41269841269842\n",
      "Accuracy of class 00016: 100.0\n",
      "Accuracy of class 00017: 100.0\n",
      "Accuracy of class 00018: 100.0\n",
      "Accuracy of class 00019: 100.0\n",
      "Accuracy of class 00020: 100.0\n",
      "Accuracy of class 00021: 100.0\n",
      "Accuracy of class 00022: 100.0\n",
      "Accuracy of class 00023: 100.0\n",
      "Accuracy of class 00024: 100.0\n",
      "Accuracy of class 00025: 100.0\n",
      "Accuracy of class 00026: 100.0\n",
      "Accuracy of class 00027: 100.0\n",
      "Accuracy of class 00028: 97.72727272727273\n",
      "Accuracy of class 00029: 100.0\n",
      "Accuracy of class 00030: 100.0\n",
      "Accuracy of class 00031: 100.0\n",
      "Accuracy of class 00032: 100.0\n",
      "Accuracy of class 00033: 100.0\n",
      "Accuracy of class 00034: 100.0\n",
      "Accuracy of class 00035: 100.0\n",
      "Accuracy of class 00036: 100.0\n",
      "Accuracy of class 00037: 100.0\n",
      "Accuracy of class 00038: 100.0\n",
      "Accuracy of class 00039: 100.0\n",
      "Accuracy of class 00040: 100.0\n",
      "Accuracy of class 00041: 100.0\n",
      "Accuracy of class 00042: 100.0\n",
      "\n",
      "\n",
      "Training loss: 0.019, training acc: 99.456\n",
      "Validation loss: 0.004, validation acc: 99.898\n",
      "Learning rate: 1.30e-09\n",
      "--------------------------------------------------\n"
     ]
    },
    {
     "name": "stderr",
     "output_type": "stream",
     "text": [
      "\n"
     ]
    }
   ],
   "source": [
    "import torch.optim as optim\n",
    "import torch.nn as nn\n",
    "from torch.cuda.amp import GradScaler\n",
    "# Optimizer.\n",
    "optimizer = optim.Adam(model.parameters(), lr=lr)\n",
    "# Loss function.\n",
    "criterion = nn.CrossEntropyLoss()\n",
    "scheduler = torch.optim.lr_scheduler.CosineAnnealingWarmRestarts(\n",
    "    optimizer, \n",
    "    T_0=10, \n",
    "    T_mult=1,\n",
    "    verbose=False\n",
    ")\n",
    "scaler = GradScaler() # For faster mixed precision training.\n",
    "# Lists to keep track of losses and accuracies.\n",
    "train_loss, valid_loss = [], []\n",
    "train_acc, valid_acc = [], []\n",
    "# Start the training.\n",
    "for epoch in range(epochs):\n",
    "    print(f\"[INFO]: Epoch {epoch+1} of {epochs}\")\n",
    "    train_epoch_loss, train_epoch_acc = train(\n",
    "        model, train_loader, \n",
    "        optimizer, scaler, criterion,\n",
    "        scheduler=scheduler, epoch=epoch\n",
    "    )\n",
    "    valid_epoch_loss, valid_epoch_acc = validate(model, valid_loader,  \n",
    "                                                criterion, dataset_classes)\n",
    "    train_loss.append(train_epoch_loss)\n",
    "    valid_loss.append(valid_epoch_loss)\n",
    "    train_acc.append(train_epoch_acc)\n",
    "    valid_acc.append(valid_epoch_acc)\n",
    "    print(f\"Training loss: {train_epoch_loss:.3f}, training acc: {train_epoch_acc:.3f}\")\n",
    "    print(f\"Validation loss: {valid_epoch_loss:.3f}, validation acc: {valid_epoch_acc:.3f}\")\n",
    "    print(f\"Learning rate: {scheduler.get_last_lr()[0]:.2e}\")\n",
    "    print('-'*50)\n",
    "    # time.sleep(5)"
   ]
  },
  {
   "cell_type": "markdown",
   "metadata": {},
   "source": []
  },
  {
   "cell_type": "code",
   "execution_count": null,
   "metadata": {},
   "outputs": [
    {
     "name": "stdout",
     "output_type": "stream",
     "text": [
      "TRAINING COMPLETE\n"
     ]
    },
    {
     "data": {
      "image/png": "[encoded data removed]",
      "text/plain": [
       "<Figure size 1000x700 with 1 Axes>"
      ]
     },
     "metadata": {},
     "output_type": "display_data"
    },
    {
     "data": {
      "image/png": "[encoded data removed]",
      "text/plain": [
       "<Figure size 1000x700 with 1 Axes>"
      ]
     },
     "metadata": {},
     "output_type": "display_data"
    }
   ],
   "source": [
    "from utils import save_model, save_plots\n",
    "# Save the trained model weights.\n",
    "save_model(epochs, model, optimizer, criterion)\n",
    "# Save the loss and accuracy plots.\n",
    "save_plots(train_acc, valid_acc, train_loss, valid_loss)\n",
    "print('TRAINING COMPLETE')"
   ]
  },
  {
   "cell_type": "markdown",
   "metadata": {},
   "source": [
    "### Clear CUDA cache."
   ]
  },
  {
   "cell_type": "code",
   "execution_count": null,
   "metadata": {},
   "outputs": [],
   "source": [
    "torch.cuda.empty_cache() # Empty the cache to avoid memory leaks."
   ]
  },
  {
   "cell_type": "markdown",
   "metadata": {},
   "source": [
    "## Evaluation\n",
    "With the model fine-tuned on th GTSRB dataset we can now evaluate the model's performance on the designated test set.\n",
    "\n",
    "### Load the test set.\n",
    "Loading the test set and the class names for the dataset."
   ]
  },
  {
   "cell_type": "code",
   "execution_count": null,
   "metadata": {},
   "outputs": [],
   "source": [
    "import pandas as pd\n",
    "sign_names_df = pd.read_csv('../input/signnames.csv')\n",
    "class_names = sign_names_df.SignName.tolist()\n",
    "gt_df = pd.read_csv(\n",
    "    '../input/GTSRB_Final_Test_GT/GT-final_test.csv', \n",
    "    delimiter=';'\n",
    ")\n",
    "gt_df = gt_df.set_index('Filename', drop=True)"
   ]
  },
  {
   "cell_type": "markdown",
   "metadata": {},
   "source": [
    "### Prepare the model for evaluation.\n",
    "Register a hook to the last convolutional layer of the model to extract the feature maps such that they can be visualized along with the original image. Since I am using PyTorch>=2.0 I will also compile the model for faster inference."
   ]
  },
  {
   "cell_type": "code",
   "execution_count": null,
   "metadata": {},
   "outputs": [
    {
     "name": "stdout",
     "output_type": "stream",
     "text": [
      "[INFO]: Loading pre-trained weights\n"
     ]
    },
    {
     "name": "stderr",
     "output_type": "stream",
     "text": [
      "/home/thjo/miniconda3/envs/siftlab2.0/lib/python3.10/site-packages/torchvision/models/_utils.py:208: UserWarning: The parameter 'pretrained' is deprecated since 0.13 and may be removed in the future, please use 'weights' instead.\n",
      "  warnings.warn(\n",
      "/home/thjo/miniconda3/envs/siftlab2.0/lib/python3.10/site-packages/torchvision/models/_utils.py:223: UserWarning: Arguments other than a weight enum or `None` for 'weights' are deprecated since 0.13 and may be removed in the future. The current behavior is equivalent to passing `weights=MobileNet_V3_Large_Weights.IMAGENET1K_V1`. You can also use `weights=MobileNet_V3_Large_Weights.DEFAULT` to get the most up-to-date weights.\n",
      "  warnings.warn(msg)\n"
     ]
    },
    {
     "name": "stdout",
     "output_type": "stream",
     "text": [
      "[INFO]: Freezing hidden layers...\n"
     ]
    }
   ],
   "source": [
    "import numpy as np\n",
    "from model import build_model\n",
    "import torch\n",
    "features_blobs = []\n",
    "device = torch.device('cuda')\n",
    "model = build_model(\n",
    "    pretrained=True,\n",
    "    fine_tune=False, \n",
    "    num_classes=43\n",
    ").to(device)\n",
    "model = model.eval()\n",
    "model.load_state_dict(\n",
    "    torch.load(\n",
    "        '../outputs/model.pth', map_location=device\n",
    "    )['model_state_dict']\n",
    ")\n",
    "def hook_feature(module, input, output):\n",
    "    features_blobs.append(output.data.cpu().numpy())\n",
    "model._modules.get('features').register_forward_hook(hook_feature)\n",
    "# Save model parameters, \n",
    "weight_softmax = np.squeeze(list(model.parameters())[-4].data.cpu().numpy())"
   ]
  },
  {
   "cell_type": "code",
   "execution_count": null,
   "metadata": {},
   "outputs": [],
   "source": [
    "import glob\n",
    "import os\n",
    "\n",
    "import albumentations as A\n",
    "import cv2\n",
    "import torch.nn.functional as F\n",
    "from cam import apply_color_map, returnCAM, visualize_and_save_map\n",
    "\n",
    "transform = A.Compose([ # Define same transform as used for validation set.\n",
    "    A.Resize(224, 224),\n",
    "    A.Normalize(\n",
    "        mean=[0.485, 0.456, 0.406],\n",
    "        std=[0.229, 0.224, 0.225]\n",
    "    ),\n",
    "    A.pytorch.ToTensorV2(),\n",
    "    ])\n",
    "all_images = glob.glob('../input/GTSRB_Final_Test_Images/GTSRB/Final_Test/Images/*.ppm')"
   ]
  },
  {
   "cell_type": "code",
   "execution_count": null,
   "metadata": {},
   "outputs": [
    {
     "name": "stderr",
     "output_type": "stream",
     "text": [
      "0it [00:00, ?it/s]/tmp/ipykernel_38395/1150855339.py:22: UserWarning: Implicit dimension choice for softmax has been deprecated. Change the call to include dim=X as an argument.\n",
      "  probs = F.softmax(outputs).data.squeeze()\n",
      "3it [00:00, 13.47it/s]"
     ]
    },
    {
     "name": "stderr",
     "output_type": "stream",
     "text": [
      "12630it [05:43, 36.74it/s]"
     ]
    },
    {
     "name": "stdout",
     "output_type": "stream",
     "text": [
      "Total number of test images: 12630\n",
      "Total correct predictions: 12497\n",
      "Accuracy: 98.947\n",
      "Average FPS: 134.426\n"
     ]
    },
    {
     "name": "stderr",
     "output_type": "stream",
     "text": [
      "\n"
     ]
    },
    {
     "ename": "",
     "evalue": "",
     "output_type": "error",
     "traceback": [
      "\u001b[1;31mThe Kernel crashed while executing code in the the current cell or a previous cell. Please review the code in the cell(s) to identify a possible cause of the failure. Click <a href='https://aka.ms/vscodeJupyterKernelCrash'>here</a> for more info. View Jupyter <a href='command:jupyter.viewOutput'>log</a> for further details."
     ]
    }
   ],
   "source": [
    "from tqdm import tqdm\n",
    "import time\n",
    "counter       = 0\n",
    "correct_count = 0\n",
    "frame_count   = 0 # To count total frames.\n",
    "total_fps     = 0 # To get the final frames per second. \n",
    "for i, image_path in tqdm(enumerate(all_images)):\n",
    "    # Read the image.\n",
    "    image = cv2.imread(image_path)\n",
    "    orig_image = image.copy()\n",
    "    image = cv2.cvtColor(image, cv2.COLOR_BGR2RGB)\n",
    "    height, width, _ = orig_image.shape\n",
    "    # Apply the image transforms.\n",
    "    image_tensor = transform(image=image)['image']\n",
    "    # Add batch dimension.\n",
    "    image_tensor = image_tensor.unsqueeze(0).to(device)\n",
    "    # Forward pass through model.\n",
    "    start_time = time.time()\n",
    "    outputs = model(image_tensor)\n",
    "    end_time = time.time()\n",
    "    # Get the softmax probabilities.\n",
    "    probs = F.softmax(outputs).data.squeeze()\n",
    "    # Get the class indices of top k probabilities.\n",
    "    class_idx = torch.topk(probs, 1)[1].int()\n",
    "    # Get the ground truth.\n",
    "    image_name = image_path.split(os.path.sep)[-1]\n",
    "    gt_idx = gt_df.loc[image_name].ClassId\n",
    "    # Check whether correct prediction or not.\n",
    "    if gt_idx == class_idx:\n",
    "        correct_count += 1\n",
    "    # Generate class activation mapping for the top1 prediction.\n",
    "    CAMs = returnCAM(features_blobs[0], weight_softmax, class_idx)\n",
    "    # File name to save the resulting CAM image with.\n",
    "    save_name = f\"{image_path.split('/')[-1].split('.')[0]}\"\n",
    "    # Show and save the results.\n",
    "    result = apply_color_map(CAMs, width, height, orig_image)\n",
    "    visualize_and_save_map(result, orig_image, gt_idx, class_idx, save_name, class_names=class_names, show=True) # Very slow to show each image, save instead.\n",
    "    counter += 1\n",
    "    # print(f\"Image: {counter}\")\n",
    "    # Get the current fps.\n",
    "    fps = 1 / (end_time - start_time)\n",
    "    # Add `fps` to `total_fps`.\n",
    "    total_fps += fps\n",
    "    # Increment frame count.\n",
    "    frame_count += 1\n",
    "\n",
    "print(f\"Total number of test images: {len(all_images)}\")\n",
    "print(f\"Total correct predictions: {correct_count}\")\n",
    "print(f\"Accuracy: {correct_count/len(all_images)*100:.3f}\")\n",
    "\n",
    "# Close all frames and video windows.\n",
    "cv2.destroyAllWindows()\n",
    "# calculate and print the average FPS\n",
    "avg_fps = total_fps / frame_count\n",
    "print(f\"Average FPS: {avg_fps:.3f}\")"
   ]
  },
  {
   "cell_type": "markdown",
   "metadata": {},
   "source": [
    "## Adverserial Attacks\n"
   ]
  },
  {
   "cell_type": "code",
   "execution_count": 1,
   "metadata": {},
   "outputs": [
    {
     "name": "stderr",
     "output_type": "stream",
     "text": [
      "/home/thjo/miniconda3/envs/siftlab2.0/lib/python3.10/site-packages/tqdm/auto.py:21: TqdmWarning: IProgress not found. Please update jupyter and ipywidgets. See https://ipywidgets.readthedocs.io/en/stable/user_install.html\n",
      "  from .autonotebook import tqdm as notebook_tqdm\n",
      "Caching images: 100%|██████████| 12630/12630 [00:00<00:00, 30204.63it/s]\n"
     ]
    }
   ],
   "source": [
    "from datasets import TestDataset\n",
    "image_path_parent = '../input/GTSRB_Final_Test_Images/GTSRB/Final_Test/Images'\n",
    "label_csv_path = '../input/GTSRB_Final_Test_GT/GT-final_test.csv'\n",
    "sign_name_path = '../input/signnames.csv'\n",
    "batch_size = 256\n",
    "num_workers = 12\n",
    "dataset, loader, class_names = TestDataset.build(image_path_parent, label_csv_path, sign_name_path, batch_size, num_workers)"
   ]
  },
  {
   "cell_type": "code",
   "execution_count": 3,
   "metadata": {},
   "outputs": [],
   "source": [
    "image, label, orig_image = dataset[0]"
   ]
  },
  {
   "cell_type": "code",
   "execution_count": 7,
   "metadata": {},
   "outputs": [
    {
     "ename": "RuntimeError",
     "evalue": "Caught RuntimeError in DataLoader worker process 0.\nOriginal Traceback (most recent call last):\n  File \"/home/thjo/miniconda3/envs/siftlab2.0/lib/python3.10/site-packages/torch/utils/data/_utils/worker.py\", line 308, in _worker_loop\n    data = fetcher.fetch(index)\n  File \"/home/thjo/miniconda3/envs/siftlab2.0/lib/python3.10/site-packages/torch/utils/data/_utils/fetch.py\", line 54, in fetch\n    return self.collate_fn(data)\n  File \"/home/thjo/miniconda3/envs/siftlab2.0/lib/python3.10/site-packages/torch/utils/data/_utils/collate.py\", line 265, in default_collate\n    return collate(batch, collate_fn_map=default_collate_fn_map)\n  File \"/home/thjo/miniconda3/envs/siftlab2.0/lib/python3.10/site-packages/torch/utils/data/_utils/collate.py\", line 142, in collate\n    return [collate(samples, collate_fn_map=collate_fn_map) for samples in transposed]  # Backwards compatibility.\n  File \"/home/thjo/miniconda3/envs/siftlab2.0/lib/python3.10/site-packages/torch/utils/data/_utils/collate.py\", line 142, in <listcomp>\n    return [collate(samples, collate_fn_map=collate_fn_map) for samples in transposed]  # Backwards compatibility.\n  File \"/home/thjo/miniconda3/envs/siftlab2.0/lib/python3.10/site-packages/torch/utils/data/_utils/collate.py\", line 119, in collate\n    return collate_fn_map[elem_type](batch, collate_fn_map=collate_fn_map)\n  File \"/home/thjo/miniconda3/envs/siftlab2.0/lib/python3.10/site-packages/torch/utils/data/_utils/collate.py\", line 171, in collate_numpy_array_fn\n    return collate([torch.as_tensor(b) for b in batch], collate_fn_map=collate_fn_map)\n  File \"/home/thjo/miniconda3/envs/siftlab2.0/lib/python3.10/site-packages/torch/utils/data/_utils/collate.py\", line 119, in collate\n    return collate_fn_map[elem_type](batch, collate_fn_map=collate_fn_map)\n  File \"/home/thjo/miniconda3/envs/siftlab2.0/lib/python3.10/site-packages/torch/utils/data/_utils/collate.py\", line 162, in collate_tensor_fn\n    return torch.stack(batch, 0, out=out)\nRuntimeError: stack expects each tensor to be equal size, but got [34, 35, 3] at entry 0 and [44, 45, 3] at entry 1\n",
     "output_type": "error",
     "traceback": [
      "\u001b[0;31m---------------------------------------------------------------------------\u001b[0m",
      "\u001b[0;31mRuntimeError\u001b[0m                              Traceback (most recent call last)",
      "\u001b[1;32m/home/thjo/Code/School/SAAV/Tutorial/src/Lab1.ipynb Cell 21\u001b[0m line \u001b[0;36m1\n\u001b[0;32m----> <a href='vscode-notebook-cell:/home/thjo/Code/School/SAAV/Tutorial/src/Lab1.ipynb#X35sZmlsZQ%3D%3D?line=0'>1</a>\u001b[0m \u001b[39mfor\u001b[39;00m images, labels, orig_images \u001b[39min\u001b[39;00m loader:\n\u001b[1;32m      <a href='vscode-notebook-cell:/home/thjo/Code/School/SAAV/Tutorial/src/Lab1.ipynb#X35sZmlsZQ%3D%3D?line=1'>2</a>\u001b[0m     \u001b[39mprint\u001b[39m(images\u001b[39m.\u001b[39mshape)\n\u001b[1;32m      <a href='vscode-notebook-cell:/home/thjo/Code/School/SAAV/Tutorial/src/Lab1.ipynb#X35sZmlsZQ%3D%3D?line=2'>3</a>\u001b[0m     \u001b[39mprint\u001b[39m(labels\u001b[39m.\u001b[39mshape)\n",
      "File \u001b[0;32m~/miniconda3/envs/siftlab2.0/lib/python3.10/site-packages/torch/utils/data/dataloader.py:630\u001b[0m, in \u001b[0;36m_BaseDataLoaderIter.__next__\u001b[0;34m(self)\u001b[0m\n\u001b[1;32m    627\u001b[0m \u001b[39mif\u001b[39;00m \u001b[39mself\u001b[39m\u001b[39m.\u001b[39m_sampler_iter \u001b[39mis\u001b[39;00m \u001b[39mNone\u001b[39;00m:\n\u001b[1;32m    628\u001b[0m     \u001b[39m# TODO(https://github.com/pytorch/pytorch/issues/76750)\u001b[39;00m\n\u001b[1;32m    629\u001b[0m     \u001b[39mself\u001b[39m\u001b[39m.\u001b[39m_reset()  \u001b[39m# type: ignore[call-arg]\u001b[39;00m\n\u001b[0;32m--> 630\u001b[0m data \u001b[39m=\u001b[39m \u001b[39mself\u001b[39;49m\u001b[39m.\u001b[39;49m_next_data()\n\u001b[1;32m    631\u001b[0m \u001b[39mself\u001b[39m\u001b[39m.\u001b[39m_num_yielded \u001b[39m+\u001b[39m\u001b[39m=\u001b[39m \u001b[39m1\u001b[39m\n\u001b[1;32m    632\u001b[0m \u001b[39mif\u001b[39;00m \u001b[39mself\u001b[39m\u001b[39m.\u001b[39m_dataset_kind \u001b[39m==\u001b[39m _DatasetKind\u001b[39m.\u001b[39mIterable \u001b[39mand\u001b[39;00m \\\n\u001b[1;32m    633\u001b[0m         \u001b[39mself\u001b[39m\u001b[39m.\u001b[39m_IterableDataset_len_called \u001b[39mis\u001b[39;00m \u001b[39mnot\u001b[39;00m \u001b[39mNone\u001b[39;00m \u001b[39mand\u001b[39;00m \\\n\u001b[1;32m    634\u001b[0m         \u001b[39mself\u001b[39m\u001b[39m.\u001b[39m_num_yielded \u001b[39m>\u001b[39m \u001b[39mself\u001b[39m\u001b[39m.\u001b[39m_IterableDataset_len_called:\n",
      "File \u001b[0;32m~/miniconda3/envs/siftlab2.0/lib/python3.10/site-packages/torch/utils/data/dataloader.py:1345\u001b[0m, in \u001b[0;36m_MultiProcessingDataLoaderIter._next_data\u001b[0;34m(self)\u001b[0m\n\u001b[1;32m   1343\u001b[0m \u001b[39melse\u001b[39;00m:\n\u001b[1;32m   1344\u001b[0m     \u001b[39mdel\u001b[39;00m \u001b[39mself\u001b[39m\u001b[39m.\u001b[39m_task_info[idx]\n\u001b[0;32m-> 1345\u001b[0m     \u001b[39mreturn\u001b[39;00m \u001b[39mself\u001b[39;49m\u001b[39m.\u001b[39;49m_process_data(data)\n",
      "File \u001b[0;32m~/miniconda3/envs/siftlab2.0/lib/python3.10/site-packages/torch/utils/data/dataloader.py:1371\u001b[0m, in \u001b[0;36m_MultiProcessingDataLoaderIter._process_data\u001b[0;34m(self, data)\u001b[0m\n\u001b[1;32m   1369\u001b[0m \u001b[39mself\u001b[39m\u001b[39m.\u001b[39m_try_put_index()\n\u001b[1;32m   1370\u001b[0m \u001b[39mif\u001b[39;00m \u001b[39misinstance\u001b[39m(data, ExceptionWrapper):\n\u001b[0;32m-> 1371\u001b[0m     data\u001b[39m.\u001b[39;49mreraise()\n\u001b[1;32m   1372\u001b[0m \u001b[39mreturn\u001b[39;00m data\n",
      "File \u001b[0;32m~/miniconda3/envs/siftlab2.0/lib/python3.10/site-packages/torch/_utils.py:694\u001b[0m, in \u001b[0;36mExceptionWrapper.reraise\u001b[0;34m(self)\u001b[0m\n\u001b[1;32m    690\u001b[0m \u001b[39mexcept\u001b[39;00m \u001b[39mTypeError\u001b[39;00m:\n\u001b[1;32m    691\u001b[0m     \u001b[39m# If the exception takes multiple arguments, don't try to\u001b[39;00m\n\u001b[1;32m    692\u001b[0m     \u001b[39m# instantiate since we don't know how to\u001b[39;00m\n\u001b[1;32m    693\u001b[0m     \u001b[39mraise\u001b[39;00m \u001b[39mRuntimeError\u001b[39;00m(msg) \u001b[39mfrom\u001b[39;00m \u001b[39mNone\u001b[39;00m\n\u001b[0;32m--> 694\u001b[0m \u001b[39mraise\u001b[39;00m exception\n",
      "\u001b[0;31mRuntimeError\u001b[0m: Caught RuntimeError in DataLoader worker process 0.\nOriginal Traceback (most recent call last):\n  File \"/home/thjo/miniconda3/envs/siftlab2.0/lib/python3.10/site-packages/torch/utils/data/_utils/worker.py\", line 308, in _worker_loop\n    data = fetcher.fetch(index)\n  File \"/home/thjo/miniconda3/envs/siftlab2.0/lib/python3.10/site-packages/torch/utils/data/_utils/fetch.py\", line 54, in fetch\n    return self.collate_fn(data)\n  File \"/home/thjo/miniconda3/envs/siftlab2.0/lib/python3.10/site-packages/torch/utils/data/_utils/collate.py\", line 265, in default_collate\n    return collate(batch, collate_fn_map=default_collate_fn_map)\n  File \"/home/thjo/miniconda3/envs/siftlab2.0/lib/python3.10/site-packages/torch/utils/data/_utils/collate.py\", line 142, in collate\n    return [collate(samples, collate_fn_map=collate_fn_map) for samples in transposed]  # Backwards compatibility.\n  File \"/home/thjo/miniconda3/envs/siftlab2.0/lib/python3.10/site-packages/torch/utils/data/_utils/collate.py\", line 142, in <listcomp>\n    return [collate(samples, collate_fn_map=collate_fn_map) for samples in transposed]  # Backwards compatibility.\n  File \"/home/thjo/miniconda3/envs/siftlab2.0/lib/python3.10/site-packages/torch/utils/data/_utils/collate.py\", line 119, in collate\n    return collate_fn_map[elem_type](batch, collate_fn_map=collate_fn_map)\n  File \"/home/thjo/miniconda3/envs/siftlab2.0/lib/python3.10/site-packages/torch/utils/data/_utils/collate.py\", line 171, in collate_numpy_array_fn\n    return collate([torch.as_tensor(b) for b in batch], collate_fn_map=collate_fn_map)\n  File \"/home/thjo/miniconda3/envs/siftlab2.0/lib/python3.10/site-packages/torch/utils/data/_utils/collate.py\", line 119, in collate\n    return collate_fn_map[elem_type](batch, collate_fn_map=collate_fn_map)\n  File \"/home/thjo/miniconda3/envs/siftlab2.0/lib/python3.10/site-packages/torch/utils/data/_utils/collate.py\", line 162, in collate_tensor_fn\n    return torch.stack(batch, 0, out=out)\nRuntimeError: stack expects each tensor to be equal size, but got [34, 35, 3] at entry 0 and [44, 45, 3] at entry 1\n"
     ]
    }
   ],
   "source": [
    "for images, labels, orig_images in loader:\n",
    "    print(images.shape)\n",
    "    print(labels.shape)\n",
    "    print(orig_images.shape)\n",
    "    break"
   ]
  }
 ],
 "metadata": {
  "kernelspec": {
   "display_name": "siftlab2.0",
   "language": "python",
   "name": "python3"
  },
  "language_info": {
   "codemirror_mode": {
    "name": "ipython",
    "version": 3
   },
   "file_extension": ".py",
   "mimetype": "text/x-python",
   "name": "python",
   "nbconvert_exporter": "python",
   "pygments_lexer": "ipython3",
   "version": "3.10.13"
  }
 },
 "nbformat": 4,
 "nbformat_minor": 2
}
